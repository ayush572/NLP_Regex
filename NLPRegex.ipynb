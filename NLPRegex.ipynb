{
  "nbformat": 4,
  "nbformat_minor": 0,
  "metadata": {
    "colab": {
      "provenance": [],
      "authorship_tag": "ABX9TyMx4hWIUbb1aqpeobDfGFoG",
      "include_colab_link": true
    },
    "kernelspec": {
      "name": "python3",
      "display_name": "Python 3"
    },
    "language_info": {
      "name": "python"
    }
  },
  "cells": [
    {
      "cell_type": "markdown",
      "metadata": {
        "id": "view-in-github",
        "colab_type": "text"
      },
      "source": [
        "<a href=\"https://colab.research.google.com/github/ayush572/NLP_Regex/blob/main/NLPRegex.ipynb\" target=\"_parent\"><img src=\"https://colab.research.google.com/assets/colab-badge.svg\" alt=\"Open In Colab\"/></a>"
      ]
    },
    {
      "cell_type": "code",
      "execution_count": null,
      "metadata": {
        "id": "GJucAPjJegbc"
      },
      "outputs": [],
      "source": [
        "import re"
      ]
    },
    {
      "cell_type": "code",
      "source": [
        "chat1 = 'I wanted to replace my order number: 4374568856'\n",
        "chat2 = 'damn! you ask a lot of questions. here is my number: 932818983, another is: (123)-456-7890, email: rahulthakur02_heron@gmail.com'"
      ],
      "metadata": {
        "id": "YfMDYLAcepYK"
      },
      "execution_count": null,
      "outputs": []
    },
    {
      "cell_type": "code",
      "source": [
        "pattern1 = '\\d{10}|\\(\\d{3}\\)-\\d{3}-\\d{3}' #for matching the phone number\n",
        "pattern2 = '[a-zA-Z0-9_]*\\@[a-z]*\\.[a-z]*' #for matching the email id\n",
        "pattern3 = 'order\\D*(\\d{8})' # for matching the order number\n",
        "# re.findall(pattern1, chat1)\n",
        "re.findall(pattern2, chat1)"
      ],
      "metadata": {
        "colab": {
          "base_uri": "https://localhost:8080/"
        },
        "id": "Gk6lGTEvhEoa",
        "outputId": "f88f3650-5dbe-4d65-cc65-520ed3276837"
      },
      "execution_count": null,
      "outputs": [
        {
          "output_type": "execute_result",
          "data": {
            "text/plain": [
              "[]"
            ]
          },
          "metadata": {},
          "execution_count": 4
        }
      ]
    },
    {
      "cell_type": "code",
      "source": [],
      "metadata": {
        "id": "snTnyuOphLfy"
      },
      "execution_count": null,
      "outputs": []
    }
  ]
}