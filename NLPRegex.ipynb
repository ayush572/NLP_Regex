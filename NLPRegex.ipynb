{
  "nbformat": 4,
  "nbformat_minor": 0,
  "metadata": {
    "colab": {
      "provenance": [],
      "authorship_tag": "ABX9TyMeLcVhDZdQ6aFPWv1KgRdf",
      "include_colab_link": true
    },
    "kernelspec": {
      "name": "python3",
      "display_name": "Python 3"
    },
    "language_info": {
      "name": "python"
    }
  },
  "cells": [
    {
      "cell_type": "markdown",
      "metadata": {
        "id": "view-in-github",
        "colab_type": "text"
      },
      "source": [
        "<a href=\"https://colab.research.google.com/github/ayush572/NLP_Regex/blob/main/NLPRegex.ipynb\" target=\"_parent\"><img src=\"https://colab.research.google.com/assets/colab-badge.svg\" alt=\"Open In Colab\"/></a>"
      ]
    },
    {
      "cell_type": "code",
      "execution_count": 1,
      "metadata": {
        "id": "GJucAPjJegbc"
      },
      "outputs": [],
      "source": [
        "import re"
      ]
    },
    {
      "cell_type": "code",
      "source": [
        "#regex used for chatbot and information extraction purpose example\n",
        "chat1 = 'I wanted to replace my order number: 43745688'\n",
        "chat2 = 'damn! you ask a lot of questions. here is my number: 932818983, another is: (123)-456-7890, email: rahulthakur02_heron@gmail.com'\n",
        "text = '''Born Elon Reeve Musk\n",
        "June 28, 1971 (age 52)\n",
        "Pretoria, Transvaal, South Africa\n",
        "Citizenship\n",
        "South Africa\n",
        "Canada\n",
        "United States\n",
        "Education\tUniversity of Pennsylvania (BA, BS)'''"
      ],
      "metadata": {
        "id": "YfMDYLAcepYK"
      },
      "execution_count": 24,
      "outputs": []
    },
    {
      "cell_type": "code",
      "source": [
        "pattern1 = '\\d{10}|\\(\\d{3}\\)-\\d{3}-\\d{3}' #for matching the phone number\n",
        "pattern2 = '[a-zA-Z0-9_]*\\@[a-z]*\\.[a-z]*' #for matching the email id\n",
        "pattern3 = 'order\\D*(\\d{8})' # for matching the order number\n",
        "pattern4 = 'age (\\d+)' #for getting the age like from the wikipedia\n",
        "pattern5 ='Born(.*)\\n' # to get the name\n",
        "pattern6 = 'Born.*\\n(.*)\\(age' # to get the date of birth\n",
        "pattern7= '\\(age.*\\n(.*)' # to get the place of living, i.e, everything below this this age\n",
        "# re.findall(pattern1, chat1)\n",
        "# re.findall(pattern3, chat1)\n",
        "re.findall(pattern7, text)"
      ],
      "metadata": {
        "colab": {
          "base_uri": "https://localhost:8080/"
        },
        "id": "Gk6lGTEvhEoa",
        "outputId": "68423c28-db9a-4d23-88d2-0259595e514f"
      },
      "execution_count": 25,
      "outputs": [
        {
          "output_type": "execute_result",
          "data": {
            "text/plain": [
              "['Pretoria, Transvaal, South Africa']"
            ]
          },
          "metadata": {},
          "execution_count": 25
        }
      ]
    },
    {
      "cell_type": "code",
      "source": [],
      "metadata": {
        "id": "snTnyuOphLfy"
      },
      "execution_count": null,
      "outputs": []
    }
  ]
}